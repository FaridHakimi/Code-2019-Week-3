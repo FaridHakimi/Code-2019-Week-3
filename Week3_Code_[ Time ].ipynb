{
 "cells": [
  {
   "cell_type": "markdown",
   "metadata": {},
   "source": [
    "<style>\n",
    " .rendered_html img {margin-left: 0 !important;float:left} \n",
    " .rendered_html table {margin-left: 0 !important;}  \n",
    "</style>\n",
    "\n",
    "<img src=https://www.noroff.no/images/logo/noroff-logo216x65.png>\n",
    "\n",
    "## Date, Time and Datetime"
   ]
  },
  {
   "cell_type": "code",
   "execution_count": 10,
   "metadata": {},
   "outputs": [
    {
     "name": "stdout",
     "output_type": "stream",
     "text": [
      "<class 'datetime.date'> 2018-05-01\n",
      "<class 'datetime.time'> 14:00:00\n",
      "<class 'datetime.datetime'> 2018-11-05 12:28:57.451707\n"
     ]
    }
   ],
   "source": [
    "import datetime\n",
    "\n",
    "date = datetime.date(2018,5,1)\n",
    "time = datetime.time(14)\n",
    "now =  datetime.datetime.now()\n",
    "\n",
    "print(type(date),date)\n",
    "print(type(time),time)\n",
    "print(type(now),now)"
   ]
  },
  {
   "cell_type": "code",
   "execution_count": 13,
   "metadata": {},
   "outputs": [
    {
     "name": "stdout",
     "output_type": "stream",
     "text": [
      "<class 'int'> 2018\n",
      "<class 'int'> 11\n",
      "<class 'int'> 5\n"
     ]
    }
   ],
   "source": [
    "now =  datetime.datetime.now()\n",
    "\n",
    "print(type(now.year),now.year)\n",
    "print(type(now.month),now.month)\n",
    "print(type(now.day),now.day)\n"
   ]
  },
  {
   "cell_type": "code",
   "execution_count": 16,
   "metadata": {},
   "outputs": [
    {
     "name": "stdout",
     "output_type": "stream",
     "text": [
      "<class 'int'> 12\n",
      "<class 'int'> 45\n",
      "<class 'int'> 39\n"
     ]
    }
   ],
   "source": [
    "now =  datetime.datetime.now()\n",
    "\n",
    "print(type(now.hour),now.hour)\n",
    "print(type(now.minute),now.minute)\n",
    "print(type(now.second),now.second)"
   ]
  },
  {
   "cell_type": "markdown",
   "metadata": {},
   "source": [
    "## Timedelta"
   ]
  },
  {
   "cell_type": "code",
   "execution_count": 24,
   "metadata": {},
   "outputs": [
    {
     "name": "stdout",
     "output_type": "stream",
     "text": [
      "2 days, 0:15:00\n",
      "1 day, 0:07:30\n",
      "1 day, 0:12:30\n"
     ]
    }
   ],
   "source": [
    "two_days = datetime.timedelta(days=2,minutes=15)\n",
    "a_day = two_days/2\n",
    "\n",
    "a_day_and_some = a_day+datetime.timedelta(minutes=5)\n",
    "\n",
    "print(two_days)\n",
    "print(a_day)\n",
    "print(a_day_and_some)"
   ]
  },
  {
   "cell_type": "markdown",
   "metadata": {},
   "source": [
    "## Time Conversion"
   ]
  },
  {
   "cell_type": "code",
   "execution_count": 34,
   "metadata": {},
   "outputs": [
    {
     "name": "stdout",
     "output_type": "stream",
     "text": [
      "<class 'str'> 2018-11-05\n"
     ]
    }
   ],
   "source": [
    "strdate = datetime.datetime.strftime(now, format=\"%Y-%m-%d\")\n",
    "print(type(strdate),strdate)"
   ]
  },
  {
   "cell_type": "code",
   "execution_count": 39,
   "metadata": {},
   "outputs": [
    {
     "name": "stdout",
     "output_type": "stream",
     "text": [
      "<class 'datetime.datetime'> 2018-11-05 00:00:00\n"
     ]
    }
   ],
   "source": [
    "datestr = datetime.datetime.strptime(\"2018-11-05\", \"%Y-%m-%d\")\n",
    "print(type(datestr),datestr)"
   ]
  },
  {
   "cell_type": "markdown",
   "metadata": {},
   "source": [
    "## Regular Expressions"
   ]
  },
  {
   "cell_type": "code",
   "execution_count": 43,
   "metadata": {},
   "outputs": [],
   "source": [
    "data = \"\"\"\n",
    "111.222.333.123 HOME - [01/Feb/1998:01:08:39 -0800] \"GET /bannerad/ad.htm HTTP/1.0\" 200 198 \"http://www.referrer.com/bannerad/ba_intro.htm\" \"Mozilla/4.01 (Macintosh; I; PPC)\"\n",
    "111.222.333.123 HOME - [01/Feb/1998:01:08:46 -0800] \"GET /bannerad/ad.htm HTTP/1.0\" 200 28083 \"http://www.referrer.com/bannerad/ba_intro.htm\" \"Mozilla/4.01 (Macintosh; I; PPC)\"\n",
    "111.222.333.123 AWAY - [01/Feb/1998:01:08:53 -0800] \"GET /bannerad/ad7.gif HTTP/1.0\" 200 9332 \"http://www.referrer.com/bannerad/ba_ad.htm\" \"Mozilla/4.01 (Macintosh; I; PPC)\"\n",
    "111.222.333.123 AWAY - [01/Feb/1998:01:09:14 -0800] \"GET /bannerad/click.htm HTTP/1.0\" 200 207 \"http://www.referrer.com/bannerad/menu.htm\" \"Mozilla/4.01 (Macintosh; I; PPC)\"\n",
    "\"\"\""
   ]
  },
  {
   "cell_type": "code",
   "execution_count": 75,
   "metadata": {},
   "outputs": [
    {
     "name": "stdout",
     "output_type": "stream",
     "text": [
      "111.222.333.123\n",
      "1998-02-01 01:08:39\n"
     ]
    }
   ],
   "source": [
    "import re, datetime\n",
    "\n",
    "reg = re.finditer(\"[0-9]{3}\\.[0-9]{3}\\.[0-9]{3}\\.[0-9]{3}\",data)\n",
    "ipaddrs = [i.group() for i in reg]\n",
    "\n",
    "reg = re.finditer(\"[\\d]{2}\\/[A-Za-z]{3}\\/[\\d]{4}:[\\d]{2}\\:[\\d]{2}\\:[\\d]{2}\",data)\n",
    "\n",
    "#\\\n",
    "\n",
    "date = [i.group() for i in reg]\n",
    "date = [datetime.datetime.strptime(i, \"%d/%b/%Y:%H:%M:%S\") for i in date]\n",
    "\n",
    "print(ipaddrs[0])\n",
    "print(date[0])\n",
    "\n",
    "\n"
   ]
  },
  {
   "cell_type": "code",
   "execution_count": 82,
   "metadata": {},
   "outputs": [
    {
     "name": "stdout",
     "output_type": "stream",
     "text": [
      "Error from 111.222.333.123 : 1998-02-01 @ 01:08:39\n",
      "Error from 111.222.333.123 : 1998-02-01 @ 01:08:46\n",
      "Error from 111.222.333.123 : 1998-02-01 @ 01:08:53\n",
      "Error from 111.222.333.123 : 1998-02-01 @ 01:09:14\n"
     ]
    }
   ],
   "source": [
    "banned_ips = {\"222.111.333.123\"}\n",
    "\n",
    "def notify_staff():\n",
    "    pass\n",
    "\n",
    "for ip,d in zip(ipaddrs,date):\n",
    "    print(\"Error from\",ip,\":\", d.date(),\"@\",d.time())\n",
    "    \n",
    "    if ip in banned_ips:\n",
    "        print(\"Serious error, Attack from address:\",ip)\n",
    "    \n",
    "    "
   ]
  },
  {
   "cell_type": "code",
   "execution_count": null,
   "metadata": {},
   "outputs": [],
   "source": []
  }
 ],
 "metadata": {
  "kernelspec": {
   "display_name": "Python 3",
   "language": "python",
   "name": "python3"
  },
  "language_info": {
   "codemirror_mode": {
    "name": "ipython",
    "version": 3
   },
   "file_extension": ".py",
   "mimetype": "text/x-python",
   "name": "python",
   "nbconvert_exporter": "python",
   "pygments_lexer": "ipython3",
   "version": "3.7.0"
  }
 },
 "nbformat": 4,
 "nbformat_minor": 2
}
