{
 "cells": [
  {
   "cell_type": "markdown",
   "metadata": {},
   "source": [
    "<style>\n",
    " .rendered_html img {margin-left: 0 !important;float:left} \n",
    " .rendered_html table {margin-left: 0 !important;}  \n",
    "</style>\n",
    "\n",
    "<img src=https://www.noroff.no/images/logo/noroff-logo216x65.png>\n",
    "\n",
    "## Functions"
   ]
  },
  {
   "cell_type": "code",
   "execution_count": null,
   "metadata": {},
   "outputs": [],
   "source": [
    "\"\"\"\n",
    ".. codeauthor:: Alexander Bjørnsrud <alexander.bjornsrud@noroff.no>\n",
    ".. date:: 2019-01-09\n",
    ".. modulename:: Functions\n",
    "\n",
    ".. warning:: must be run using Jupyter.\n",
    "\n",
    "This notebook is about functions.\n",
    "\"\"\""
   ]
  },
  {
   "cell_type": "code",
   "execution_count": null,
   "metadata": {},
   "outputs": [],
   "source": [
    "\"\"\"\n",
    "###--------------------\n",
    "# Functions should be used when we have repeating code\n",
    "###--------------------\n",
    "\"\"\"\n",
    "\n",
    "#Dette kan bli\n",
    "a = input(\"$>\")\n",
    "print(\"Recived:\",a)\n",
    "\n",
    "a = input(\"$>\")\n",
    "print(\"Recived:\",a)\n",
    "\n",
    "a = input(\"$>\")\n",
    "print(\"Recived:\",a)"
   ]
  },
  {
   "cell_type": "code",
   "execution_count": null,
   "metadata": {},
   "outputs": [],
   "source": [
    "#---------------\n",
    "# The previous block is a good example of where functions should be used.\n",
    "#---------------\n",
    "\n",
    "def inp_print():\n",
    "    \"\"\"\n",
    "    This fucntion prints the input recieved.\n",
    "    \n",
    "    :return: no Return.\n",
    "    \"\"\"\n",
    "    a = input(\"$>\")\n",
    "    print(\"Recived:\",a)\n",
    "    \n",
    "    \n",
    "inp_print()\n",
    "inp_print()\n",
    "inp_print()"
   ]
  },
  {
   "cell_type": "markdown",
   "metadata": {},
   "source": [
    "## Arguments"
   ]
  },
  {
   "cell_type": "code",
   "execution_count": 6,
   "metadata": {},
   "outputs": [
    {
     "name": "stdout",
     "output_type": "stream",
     "text": [
      "The function Recieved: 1 and 1\n",
      "The sum is: 2\n",
      "The function Recieved: 1 and 2\n",
      "The sum is: 3\n",
      "The function Recieved: 5 and 5\n",
      "The sum is: 10\n"
     ]
    }
   ],
   "source": [
    "\"\"\"\n",
    "\n",
    "Functions can be given arguments in form of varables.\n",
    "\n",
    "\"\"\"\n",
    "def add(x,y):\n",
    "    \"\"\"\n",
    "    Adds x and y.\n",
    "    \n",
    "    :param x: value to be added.\n",
    "    :type x: int\n",
    "    \n",
    "    :param y: second value to be added.\n",
    "    :type y: int\n",
    "    \n",
    "    :return: no Return.\n",
    "    :rtype: None\n",
    "    \"\"\"\n",
    "    print(\"The function Recieved:\",x,\"and\",y)\n",
    "    print(\"The sum is:\",x+y)\n",
    "\n",
    "add(1,1)\n",
    "add(1,2)\n",
    "add(5,5)"
   ]
  },
  {
   "cell_type": "markdown",
   "metadata": {},
   "source": [
    "## Default Arguments "
   ]
  },
  {
   "cell_type": "code",
   "execution_count": 10,
   "metadata": {},
   "outputs": [
    {
     "name": "stdout",
     "output_type": "stream",
     "text": [
      "The function Recieved: 0 and 0\n",
      "The sum is: 0\n",
      "The function Recieved: 1 and 0\n",
      "The sum is: 1\n",
      "The function Recieved: 0 and 1\n",
      "The sum is: 1\n",
      "The function Recieved: 5 and 6\n",
      "The sum is: 11\n",
      "The function Recieved: 6 and 5\n",
      "The sum is: 11\n"
     ]
    }
   ],
   "source": [
    "\"\"\"\n",
    "Somtimes we can give an argument a default value.\n",
    "\"\"\"\n",
    "\n",
    "def add(x=0,y=0): # Default arguments, We assign the value that we want to be default\n",
    "    \"\"\"\n",
    "    Adds x and y with default arguments.\n",
    "    \n",
    "    :param x: value to be added.\n",
    "    :type x: int\n",
    "    \n",
    "    :param y: second value to be added.\n",
    "    :type y: int\n",
    "    \n",
    "    :return: no Return.\n",
    "    :rtype: None\n",
    "    \"\"\"\n",
    "    print(\"The function Recieved:\",x,\"and\",y)\n",
    "    print(\"The sum is:\",x+y)\n",
    "    \n",
    "\n",
    "add() # add can now be run without arguments\n",
    "add(1) # The input will now override the x variable\n",
    "add(y=1) # The input wil spesiffically override y\n",
    "add(5,6) # The input overrides both x and y\n",
    "add(y=5,x=6)# The input overrides both x and y"
   ]
  },
  {
   "cell_type": "code",
   "execution_count": 18,
   "metadata": {},
   "outputs": [
    {
     "name": "stdout",
     "output_type": "stream",
     "text": [
      "We recive a: <class 'function'> Object\n",
      "Doing an:  add\n",
      "The function Recieved: 5 and 4\n",
      "The sum is: 9\n",
      "We recive a: <class 'function'> Object\n",
      "Doing an:  sub\n",
      "The function Recieved: 5 and 4\n",
      "The difference is: 1\n"
     ]
    }
   ],
   "source": [
    "\"\"\"\n",
    "The input to a function can be any Python object\n",
    "\"\"\"\n",
    "\n",
    "def add(x,y):\n",
    "    \"\"\"\n",
    "    Adds x and y.\n",
    "    \n",
    "    :param x: value to be added.\n",
    "    :type x: int\n",
    "    \n",
    "    :param y: second value to be added.\n",
    "    :type y: int\n",
    "    \"\"\"\n",
    "    print(\"The function Recieved:\",x,\"and\",y)\n",
    "    print(\"The sum is:\",x+y)\n",
    "    \n",
    "def sub(x,y):\n",
    "    \"\"\"\n",
    "    Subtracts x and y.\n",
    "    \n",
    "    :param x: value to be subtracted from.\n",
    "    :type x: int\n",
    "    \n",
    "    :param y: subtracted value.\n",
    "    :type y: int\n",
    "    \"\"\"\n",
    "    print(\"The function Recieved:\",x,\"and\",y)\n",
    "    print(\"The difference is:\",x-y)\n",
    "    \n",
    "def do(func,x,y):\n",
    "    \"\"\"\n",
    "    Runs a function we specify.\n",
    "    \n",
    "    :param func: The function we want to run.\n",
    "    \n",
    "    :param x: the first argyment of func.\n",
    "    :type x: Unkown\n",
    "    \n",
    "    :param y: the second argument of func.\n",
    "    :type y: Unknown\n",
    "    \"\"\"\n",
    "    print(\"We recive a:\",type(func),\"Object\")\n",
    "    print(\"Doing an: \", func.__name__)\n",
    "    func(x,y)\n",
    "\n",
    "    \n",
    "x,y= 5,4\n",
    "\n",
    "do(add,x,y)\n",
    "\n",
    "do(sub,x,y)\n"
   ]
  },
  {
   "cell_type": "markdown",
   "metadata": {},
   "source": [
    "## Returning Values"
   ]
  },
  {
   "cell_type": "code",
   "execution_count": 19,
   "metadata": {},
   "outputs": [
    {
     "name": "stdout",
     "output_type": "stream",
     "text": [
      "4\n",
      "16\n"
     ]
    }
   ],
   "source": [
    "\"\"\"\n",
    "We can also make the function return output\n",
    "\"\"\"\n",
    "\n",
    "def square(x):\n",
    "    \"\"\"\n",
    "    Squares a number\n",
    "    \n",
    "    :param x: The number to be squared.\n",
    "    :type x: int\n",
    "    \n",
    "    :return: x squared\n",
    "    :rtype: int\n",
    "    \"\"\"\n",
    "    return x**2\n",
    "\n",
    "a = square(2)\n",
    "print(a)\n",
    "\n",
    "a = square(a) #### Ai AI AI\n",
    "print(a) \n"
   ]
  },
  {
   "cell_type": "code",
   "execution_count": 2,
   "metadata": {},
   "outputs": [
    {
     "name": "stdout",
     "output_type": "stream",
     "text": [
      "4\n",
      "16\n",
      "256\n"
     ]
    }
   ],
   "source": [
    "\"\"\"\n",
    "We can also make the function return output\n",
    "\"\"\"\n",
    "\n",
    "#Never re write code!\n",
    "#Make Functions not lines of code!\n",
    "\n",
    "def square(x):\n",
    "    \"\"\"\n",
    "    Squares a number\n",
    "    \n",
    "    :param x: The number to be squared.\n",
    "    :type x: int\n",
    "    \n",
    "    :return: x squared\n",
    "    :rtype: int\n",
    "    \"\"\"\n",
    "    return x**2\n",
    "\n",
    "def print_square(x):\n",
    "    \"\"\"\n",
    "    Prints the square of a number.\n",
    "    \n",
    "    :param x: the vaule to be squred.\n",
    "    :type x: int\n",
    "    \n",
    "    :return: the value after squaring.\n",
    "    :rtype: int\n",
    "    \n",
    "    :raises ValueError: if x is not an int\n",
    "    \"\"\"\n",
    "    if type(x) != int:\n",
    "        raise ValueError(\"Must Be int!\")\n",
    "        \n",
    "    a = square(x)\n",
    "    print(a)\n",
    "    return a\n",
    "\n",
    "end = print_square(print_square(print_square(2)))\n"
   ]
  },
  {
   "cell_type": "markdown",
   "metadata": {},
   "source": [
    "## Anonymus Functions"
   ]
  },
  {
   "cell_type": "code",
   "execution_count": 3,
   "metadata": {},
   "outputs": [
    {
     "name": "stdout",
     "output_type": "stream",
     "text": [
      "Add Funciton name: add\n",
      "Anon Funciton Name: <lambda>\n",
      "Type of anon Function: <class 'function'>\n",
      "Type of lambda Function: <class 'function'>\n",
      "The name of lambda: <lambda>\n"
     ]
    }
   ],
   "source": [
    "\"\"\"\n",
    "\n",
    "Anonymus Funcitons have no name\n",
    "\n",
    "\"\"\"\n",
    "\n",
    "def add(x,y): # Regular Funciton\n",
    "    \"\"\"\n",
    "    Adds x and y.\n",
    "    \n",
    "    :param x: value to be added.\n",
    "    :type x: int\n",
    "    \n",
    "    :param y: second value to be added.\n",
    "    :type y: int\n",
    "    \"\"\"\n",
    "    print(x+y)\n",
    "    \n",
    "anon_add = lambda x,y:print(x+y) #An anonymus Fucntion\n",
    "\n",
    "print(\"Add Funciton name:\",add.__name__)\n",
    "print(\"Anon Funciton Name:\",anon_add.__name__)\n",
    "print(\"Type of anon Function:\",type(anon_add))\n",
    "print(\"Type of lambda Function:\",type(lambda : print(\"\")))\n",
    "print(\"The name of lambda:\",(lambda : print(\"\")).__name__)\n"
   ]
  },
  {
   "cell_type": "markdown",
   "metadata": {},
   "source": [
    "# Callbacks"
   ]
  },
  {
   "cell_type": "code",
   "execution_count": 40,
   "metadata": {},
   "outputs": [
    {
     "name": "stdout",
     "output_type": "stream",
     "text": [
      "Running add Result: 9\n",
      "Running sub Result: 1\n",
      "Running mul Result: 20\n",
      "Running dev Result: 1.25\n",
      "Running a add Result: 9\n"
     ]
    }
   ],
   "source": [
    "\"\"\"\n",
    "Callbacks are functions and anonymus fucnitons arranged as a list or dictionarry.\n",
    "This allows us to make dynamic function calls witout a bunch of if statements.\n",
    "\"\"\"\n",
    "\n",
    "functions = {\n",
    "    \"add\":lambda x,y:x+y,\n",
    "    \"sub\":lambda x,y:x-y,\n",
    "    \"mul\":lambda x,y:x*y,\n",
    "    \"dev\":lambda x,y:x/y\n",
    "}\n",
    "\n",
    "x,y= 5,4\n",
    "\n",
    "for i,p in zip(functions.keys(), functions.values()):\n",
    "    print(\"Running\",i,\"Result:\",p(x,y))\n",
    "\n",
    "key = \"add\"\n",
    "out = functions[key](x,y) \n",
    "print(\"Running a\",key,\"Result:\",out)\n"
   ]
  },
  {
   "cell_type": "markdown",
   "metadata": {},
   "source": [
    "## Emulating a switch statement"
   ]
  },
  {
   "cell_type": "code",
   "execution_count": 54,
   "metadata": {},
   "outputs": [
    {
     "name": "stdout",
     "output_type": "stream",
     "text": [
      "If we get a List: [1, 4, 9, 16, 25]\n",
      "If we get a dictionary: {'One Squared': 1, 'Two Squared': 4, 'Three Squared': 9}\n"
     ]
    }
   ],
   "source": [
    "\"\"\"\n",
    "c switch statement:\n",
    "\n",
    "swich(number){\n",
    "    case 1:\n",
    "        printf(\"output is 1\")\n",
    "        break\n",
    "    \n",
    "    case 2:\n",
    "        printf(\"output is 2\")\n",
    "        break\n",
    "    \n",
    "    case 3:\n",
    "        printf(\"output is 3\")\n",
    "        break\n",
    "}\n",
    "\n",
    "\"\"\"\n",
    "\n",
    "switch = [\n",
    "    lambda x: print(\"x is 1\"), #case 1\n",
    "    lambda x: print(\"x is 2\"), #case 2\n",
    "    lambda x: print(\"x is 3\")  #case 3\n",
    "]\n",
    "\n",
    "string_switch = {\n",
    "    \"add\":lambda x,y:x+y, #case add\n",
    "    \"sub\":lambda x,y:x-y, #case sub\n",
    "    \"mul\":lambda x,y:x*y, #case mul\n",
    "    \"dev\":lambda x,y:x/y  #case dev\n",
    "}\n",
    "\n",
    "##This is where it gets waaaaay more advancd than other languages\n",
    "\n",
    "##Squaring Functions:\n",
    "object_switch = {\n",
    "    list:lambda x:[i**2 for i in x], #case we get a list\n",
    "    dict:lambda x:dict([(n+\" Squared\",i**2) for i,n in zip(x.values(),x.keys())]) #case we get a dict\n",
    "}\n",
    "\n",
    "x = [1,2,3,4,5]\n",
    "print(\"If we get a List:\",object_switch[type(x)](x))\n",
    "\n",
    "y = {\n",
    "    \"One\":1,\n",
    "    \"Two\":2,\n",
    "    \"Three\":3,\n",
    "    }\n",
    "\n",
    "print(\"If we get a dictionary:\",object_switch[type(y)](y))\n"
   ]
  },
  {
   "cell_type": "markdown",
   "metadata": {},
   "source": [
    "## Scope"
   ]
  },
  {
   "cell_type": "code",
   "execution_count": 63,
   "metadata": {
    "scrolled": true
   },
   "outputs": [
    {
     "name": "stdout",
     "output_type": "stream",
     "text": [
      "Local Print: 7\n",
      "Global Print: 5\n"
     ]
    }
   ],
   "source": [
    "\"\"\"\n",
    "Variables have a scope or a domain of existence.\n",
    "\"\"\"\n",
    "\n",
    "variable = 5 # Same name, but globel\n",
    "\n",
    "def func():\n",
    "    \"\"\"\n",
    "    Prints a local Variable\n",
    "    \"\"\"\n",
    "    \n",
    "    variable = 7 # Same name, but local\n",
    "    print(\"Local Print:\",variable)# what wil it bee? \n",
    "    \n",
    "func()\n",
    "print(\"Global Print:\",variable)"
   ]
  },
  {
   "cell_type": "code",
   "execution_count": 4,
   "metadata": {
    "scrolled": true
   },
   "outputs": [
    {
     "name": "stdout",
     "output_type": "stream",
     "text": [
      "5\n"
     ]
    }
   ],
   "source": [
    "variable = 5\n",
    "\n",
    "def func():\n",
    "    \"\"\"\n",
    "    Prints a Global Variable\n",
    "    \"\"\"\n",
    "    print(variable)# what wil it bee? \n",
    "    \n",
    "func()"
   ]
  },
  {
   "cell_type": "code",
   "execution_count": 61,
   "metadata": {},
   "outputs": [
    {
     "name": "stdout",
     "output_type": "stream",
     "text": [
      "Local Print: 7\n",
      "Global Print: 7\n"
     ]
    }
   ],
   "source": [
    "\"\"\"\n",
    "Variables have a scope or a domain of existence.\n",
    "\"\"\"\n",
    "\n",
    "variable = 5 # Same name, but globel\n",
    "\n",
    "def func():\n",
    "    \"\"\"\n",
    "    Modifies and prints a Global variable.\n",
    "    \"\"\"\n",
    "    global variable #glbal keyword will allow us to point to global variables\n",
    "    variable = 7 # Same name, but local\n",
    "    print(\"Local Print:\",variable)# what wil it bee? \n",
    "    \n",
    "func()\n",
    "print(\"Global Print:\",variable)"
   ]
  },
  {
   "cell_type": "markdown",
   "metadata": {},
   "source": [
    "## Recursive Functions"
   ]
  },
  {
   "cell_type": "code",
   "execution_count": 79,
   "metadata": {},
   "outputs": [
    {
     "name": "stdout",
     "output_type": "stream",
     "text": [
      "3!: 6\n",
      "5!: 120\n"
     ]
    }
   ],
   "source": [
    "\"\"\"\n",
    "Recursive functions are functions that call them selves.\n",
    "Lets calculate factorial.\n",
    "\n",
    "3! = 3*2*1 == 6\n",
    "\"\"\"\n",
    "\n",
    "def fact(n):\n",
    "    \"\"\"\n",
    "    Calculates the factorial of a number.\n",
    "    \n",
    "    :param n: The nubmber to be factorized.\n",
    "    :type n: int\n",
    "    \n",
    "    :return: n * fract(n-1)\n",
    "    :rtype: int\n",
    "    \n",
    "    \"\"\"\n",
    "    if n <= 1: return 1\n",
    "    return n * fract(n-1) \n",
    "\n",
    "print(\"3!:\",fact(3))\n",
    "print(\"5!:\",fact(5))\n"
   ]
  },
  {
   "cell_type": "code",
   "execution_count": 8,
   "metadata": {},
   "outputs": [
    {
     "name": "stdout",
     "output_type": "stream",
     "text": [
      "[5 9 1 4 8 5 7 6 6 5 6 1 8 7 9 9 3 6 5 1]\n",
      "[1, 1, 1, 3, 4, 5, 5, 5, 5, 6, 6, 6, 6, 7, 7, 8, 8, 9, 9, 9]\n"
     ]
    }
   ],
   "source": [
    "\"\"\"\n",
    "Recursuve fucntions is also often used in sorting.\n",
    "\n",
    "\"\"\"\n",
    "\n",
    "import numpy as np\n",
    "\n",
    "def quick_sort(l):\n",
    "    \"\"\"\n",
    "    Sorts a list\n",
    "    \n",
    "    :param l: list to be sorted\n",
    "    :type l: list\n",
    "    \n",
    "    :return: l or quick_sort(l)\n",
    "    :rtype: list\n",
    "    \"\"\"\n",
    "    \n",
    "    \n",
    "    if len(l) <= 1: return l\n",
    "    else: return quick_sort([e for e in l[1:] if e <= l[0]]) + [l[0]] + quick_sort([e for e in l[1:] if e > l[0]])\n",
    "    \n",
    "lst = np.random.randint(1,10,20)\n",
    "\n",
    "print(lst)\n",
    "print(quick_sort(lst))"
   ]
  },
  {
   "cell_type": "code",
   "execution_count": null,
   "metadata": {},
   "outputs": [],
   "source": []
  },
  {
   "cell_type": "code",
   "execution_count": null,
   "metadata": {},
   "outputs": [],
   "source": []
  }
 ],
 "metadata": {
  "kernelspec": {
   "display_name": "Python 3",
   "language": "python",
   "name": "python3"
  },
  "language_info": {
   "codemirror_mode": {
    "name": "ipython",
    "version": 3
   },
   "file_extension": ".py",
   "mimetype": "text/x-python",
   "name": "python",
   "nbconvert_exporter": "python",
   "pygments_lexer": "ipython3",
   "version": "3.7.0"
  }
 },
 "nbformat": 4,
 "nbformat_minor": 2
}
