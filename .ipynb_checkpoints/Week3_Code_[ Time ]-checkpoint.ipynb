{
 "cells": [
  {
   "cell_type": "markdown",
   "metadata": {},
   "source": [
    "<style>\n",
    " .rendered_html img {margin-left: 0 !important;float:left} \n",
    " .rendered_html table {margin-left: 0 !important;}  \n",
    "</style>\n",
    "\n",
    "<img src=https://www.noroff.no/images/logo/noroff-logo216x65.png>\n",
    "\n",
    "## Date, Time and Datetime"
   ]
  },
  {
   "cell_type": "code",
   "execution_count": 10,
   "metadata": {},
   "outputs": [
    {
     "name": "stdout",
     "output_type": "stream",
     "text": [
      "<class 'datetime.date'> 2018-05-01\n",
      "<class 'datetime.time'> 14:00:00\n",
      "<class 'datetime.datetime'> 2018-11-05 12:28:57.451707\n"
     ]
    }
   ],
   "source": [
    "import datetime\n",
    "\n",
    "date = datetime.date(2018,5,1)\n",
    "time = datetime.time(14)\n",
    "now =  datetime.datetime.now()\n",
    "\n",
    "print(type(date),date)\n",
    "print(type(time),time)\n",
    "print(type(now),now)"
   ]
  },
  {
   "cell_type": "code",
   "execution_count": 13,
   "metadata": {},
   "outputs": [
    {
     "name": "stdout",
     "output_type": "stream",
     "text": [
      "<class 'int'> 2018\n",
      "<class 'int'> 11\n",
      "<class 'int'> 5\n"
     ]
    }
   ],
   "source": [
    "now =  datetime.datetime.now()\n",
    "\n",
    "print(type(now.year),now.year)\n",
    "print(type(now.month),now.month)\n",
    "print(type(now.day),now.day)\n"
   ]
  },
  {
   "cell_type": "code",
   "execution_count": 16,
   "metadata": {},
   "outputs": [
    {
     "name": "stdout",
     "output_type": "stream",
     "text": [
      "<class 'int'> 12\n",
      "<class 'int'> 45\n",
      "<class 'int'> 39\n"
     ]
    }
   ],
   "source": [
    "now =  datetime.datetime.now()\n",
    "\n",
    "print(type(now.hour),now.hour)\n",
    "print(type(now.minute),now.minute)\n",
    "print(type(now.second),now.second)"
   ]
  },
  {
   "cell_type": "markdown",
   "metadata": {},
   "source": [
    "## Timedelta"
   ]
  },
  {
   "cell_type": "code",
   "execution_count": 23,
   "metadata": {},
   "outputs": [
    {
     "name": "stdout",
     "output_type": "stream",
     "text": [
      "2 days, 0:15:00\n",
      "1 day, 0:07:30\n"
     ]
    }
   ],
   "source": [
    "two_days = datetime.timedelta(days=2,minutes=15)\n",
    "a_day = two_days/2\n",
    "\n",
    "a_day_and_some = a_day+datetime.timedelta(minutes=5)\n",
    "\n",
    "print(two_days)\n",
    "print(a_day)\n",
    "print(a_day_and_some)"
   ]
  },
  {
   "cell_type": "code",
   "execution_count": null,
   "metadata": {},
   "outputs": [],
   "source": []
  }
 ],
 "metadata": {
  "kernelspec": {
   "display_name": "Python 3",
   "language": "python",
   "name": "python3"
  },
  "language_info": {
   "codemirror_mode": {
    "name": "ipython",
    "version": 3
   },
   "file_extension": ".py",
   "mimetype": "text/x-python",
   "name": "python",
   "nbconvert_exporter": "python",
   "pygments_lexer": "ipython3",
   "version": "3.7.0"
  }
 },
 "nbformat": 4,
 "nbformat_minor": 2
}
